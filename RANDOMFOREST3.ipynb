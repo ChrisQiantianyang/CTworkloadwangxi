{
 "cells": [
  {
   "cell_type": "code",
   "execution_count": 1,
   "id": "c86d1c01",
   "metadata": {},
   "outputs": [],
   "source": [
    "import pandas as pd\n",
    "import numpy as np\n",
    "import itertools\n",
    "from matplotlib import pyplot\n",
    "# forecast monthly births with random forest\n",
    "from numpy import asarray\n",
    "from pandas import read_csv\n",
    "from pandas import DataFrame\n",
    "from pandas import concat\n",
    "from sklearn.metrics import mean_absolute_error\n",
    "from sklearn.ensemble import RandomForestRegressor"
   ]
  },
  {
   "cell_type": "code",
   "execution_count": 2,
   "id": "0d8cb4fb",
   "metadata": {},
   "outputs": [],
   "source": [
    "series = read_csv('datacount7.csv', header=0, index_col=0, parse_dates=True, squeeze=True)\n",
    "train_end_date = '2023-06-23'\n",
    "train_end_date = pd.to_datetime(train_end_date)\n",
    "train = series.loc[series.index < train_end_date]\n",
    "test = series.loc[series.index >= train_end_date]\n",
    "trainvalues = train.values\n",
    "trainvalues = trainvalues.reshape(-1, 1)\n",
    "testvalues = test.values\n",
    "testvalues = testvalues.reshape(-1, 1)"
   ]
  },
  {
   "cell_type": "code",
   "execution_count": 3,
   "id": "7aefd3d5",
   "metadata": {},
   "outputs": [],
   "source": [
    "def series_to_supervised(data,n_in = 1,n_out = 1,dropnan=True):\n",
    "    n_vars = 1 if type(data) is list else data.shape[1]\n",
    "    df = DataFrame(data)\n",
    "    cols = list()\n",
    "    # input sequence (t-n, ... t-1)\n",
    "    for i in range(n_in, 0, -1):\n",
    "         cols.append(df.shift(i))\n",
    "    # forecast sequence (t, t+1, ... t+n)\n",
    "    for i in range(0, n_out):\n",
    "        cols.append(df.shift(-i))\n",
    "    # put it all together\n",
    "    agg = concat(cols, axis=1)\n",
    "    # drop rows with NaN values\n",
    "    if dropnan:\n",
    "        agg.dropna(inplace=True)\n",
    "        return agg.values"
   ]
  },
  {
   "cell_type": "code",
   "execution_count": 4,
   "id": "5265087b",
   "metadata": {},
   "outputs": [],
   "source": [
    "traindata = series_to_supervised(trainvalues, n_in=8)\n",
    "testdata = series_to_supervised(testvalues, n_in=8)"
   ]
  },
  {
   "cell_type": "code",
   "execution_count": 5,
   "id": "8207ffdb",
   "metadata": {},
   "outputs": [],
   "source": [
    "def random_forest_forecast(train, testX):\n",
    "\t# transform list into array\n",
    "\ttrain = asarray(train)\n",
    "\t# split into input and output columns\n",
    "\ttrainX, trainy = train[:, :-1], train[:, -1]\n",
    "\t# fit model\n",
    "\tmodel = RandomForestRegressor(n_estimators=n_estimators,max_depth = max_depth,min_samples_leaf = min_samples_leaf)\n",
    "\tmodel.fit(trainX, trainy)\n",
    "\t# make a one-step prediction\n",
    "\tyhat = model.predict([testX])\n",
    "\treturn yhat[0]"
   ]
  },
  {
   "cell_type": "code",
   "execution_count": 6,
   "id": "11b66778",
   "metadata": {},
   "outputs": [],
   "source": [
    "def walk_forward_validation(traindata,testdata, n_test,n_estimators,max_depth,min_samples_leaf):\n",
    "    predictions = list()\n",
    "    history = [x for x in traindata]\n",
    "    for i in range(len(testdata)):\n",
    "        # split test row into input and output columns\n",
    "        testX, testy = testdata[i, :-1], testdata[i, -1]\n",
    "        # fit model on history and make a prediction\n",
    "        yhat = random_forest_forecast(history, testX)\n",
    "        # store forecast in list of predictions\n",
    "        predictions.append(yhat)\n",
    "        # add actual observation to history for the next loop\n",
    "        history.append(testdata[i])\n",
    "    # estimate prediction error\n",
    "    error = mean_absolute_error(testdata[:, -1], predictions)\n",
    "    return error, testdata[:, -1], predictions"
   ]
  },
  {
   "cell_type": "code",
   "execution_count": 10,
   "id": "52448af2",
   "metadata": {},
   "outputs": [],
   "source": [
    "n_estimators = 31"
   ]
  },
  {
   "cell_type": "code",
   "execution_count": 11,
   "id": "fd100dce",
   "metadata": {},
   "outputs": [],
   "source": [
    "max_depth = 4"
   ]
  },
  {
   "cell_type": "code",
   "execution_count": 12,
   "id": "8e822c7b",
   "metadata": {},
   "outputs": [],
   "source": [
    "min_samples_leaf=10"
   ]
  },
  {
   "cell_type": "code",
   "execution_count": 13,
   "id": "5441d84b",
   "metadata": {},
   "outputs": [],
   "source": [
    "mae, y, yhat = walk_forward_validation(traindata,testdata, 31,n_estimators=n_estimators,max_depth = max_depth,min_samples_leaf = min_samples_leaf)"
   ]
  },
  {
   "cell_type": "code",
   "execution_count": 14,
   "id": "bbe78bd2",
   "metadata": {},
   "outputs": [
    {
     "data": {
      "text/plain": [
       "array([293., 230., 739., 679., 641., 592., 553., 275., 235., 690., 711.,\n",
       "       633., 549., 527., 329., 217., 689., 684., 613., 539., 508., 302.,\n",
       "       230., 687., 678., 625., 572., 535., 326., 248., 671.])"
      ]
     },
     "execution_count": 14,
     "metadata": {},
     "output_type": "execute_result"
    }
   ],
   "source": [
    "y"
   ]
  },
  {
   "cell_type": "code",
   "execution_count": 15,
   "id": "aa998471",
   "metadata": {},
   "outputs": [
    {
     "data": {
      "text/plain": [
       "[330.26866785331214,\n",
       " 606.5982998495477,\n",
       " 671.838621180793,\n",
       " 654.6304858124269,\n",
       " 629.4605185812259,\n",
       " 547.7217328790846,\n",
       " 519.490492095028,\n",
       " 316.1648810986384,\n",
       " 232.7495316569506,\n",
       " 674.2857506110895,\n",
       " 653.3402111506489,\n",
       " 635.2051474365574,\n",
       " 554.748043528052,\n",
       " 530.4165747263604,\n",
       " 294.43230550895765,\n",
       " 231.73680753306016,\n",
       " 680.2291983634177,\n",
       " 641.3959027457558,\n",
       " 637.5804836139929,\n",
       " 540.2838029747735,\n",
       " 513.3258720654852,\n",
       " 333.3273743319599,\n",
       " 215.5130972040875,\n",
       " 660.3432251634292,\n",
       " 628.3424667205251,\n",
       " 623.1997078058205,\n",
       " 541.6935140683398,\n",
       " 522.6752234302171,\n",
       " 287.57409983198295,\n",
       " 228.21554765124657,\n",
       " 684.221421955327]"
      ]
     },
     "execution_count": 15,
     "metadata": {},
     "output_type": "execute_result"
    }
   ],
   "source": [
    "yhat"
   ]
  },
  {
   "cell_type": "code",
   "execution_count": 18,
   "id": "89aa708e",
   "metadata": {},
   "outputs": [],
   "source": [
    "sumall = sum(y)"
   ]
  },
  {
   "cell_type": "code",
   "execution_count": 19,
   "id": "bebcacaf",
   "metadata": {},
   "outputs": [],
   "source": [
    "gap = sum(abs(yhat-y))"
   ]
  },
  {
   "cell_type": "code",
   "execution_count": 20,
   "id": "2744b911",
   "metadata": {},
   "outputs": [
    {
     "data": {
      "text/plain": [
       "1092.7457445060395"
      ]
     },
     "execution_count": 20,
     "metadata": {},
     "output_type": "execute_result"
    }
   ],
   "source": [
    "gap"
   ]
  },
  {
   "cell_type": "code",
   "execution_count": 21,
   "id": "15e0a57d",
   "metadata": {},
   "outputs": [
    {
     "data": {
      "text/plain": [
       "15800.0"
      ]
     },
     "execution_count": 21,
     "metadata": {},
     "output_type": "execute_result"
    }
   ],
   "source": [
    "sumall"
   ]
  },
  {
   "cell_type": "code",
   "execution_count": 22,
   "id": "a2b280cf",
   "metadata": {},
   "outputs": [
    {
     "data": {
      "text/plain": [
       "0.0691611230700025"
      ]
     },
     "execution_count": 22,
     "metadata": {},
     "output_type": "execute_result"
    }
   ],
   "source": [
    "gap/sumall"
   ]
  },
  {
   "cell_type": "code",
   "execution_count": null,
   "id": "51b9f507",
   "metadata": {},
   "outputs": [],
   "source": []
  }
 ],
 "metadata": {
  "kernelspec": {
   "display_name": "Python 3 (ipykernel)",
   "language": "python",
   "name": "python3"
  },
  "language_info": {
   "codemirror_mode": {
    "name": "ipython",
    "version": 3
   },
   "file_extension": ".py",
   "mimetype": "text/x-python",
   "name": "python",
   "nbconvert_exporter": "python",
   "pygments_lexer": "ipython3",
   "version": "3.9.12"
  }
 },
 "nbformat": 4,
 "nbformat_minor": 5
}
