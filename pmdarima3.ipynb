{
 "cells": [
  {
   "cell_type": "code",
   "execution_count": 8,
   "id": "0de36433",
   "metadata": {},
   "outputs": [],
   "source": [
    "from pmdarima.arima import auto_arima\n",
    "import numpy as np\n",
    "import pandas as pd\n",
    "import matplotlib.pyplot as plt\n",
    "import pmdarima as pm\n",
    "from pmdarima import model_selection\n",
    "from sklearn.metrics import mean_squared_error\n",
    "from pmdarima.arima import ADFTest\n",
    "from pmdarima.arima import AutoARIMA\n",
    "from pmdarima import auto_arima\n",
    "from sklearn.metrics import mean_absolute_error, mean_squared_error, r2_score"
   ]
  },
  {
   "cell_type": "code",
   "execution_count": 2,
   "id": "79d955ab",
   "metadata": {},
   "outputs": [],
   "source": [
    "df = pd.read_csv('datacount7.csv')\n",
    "df['y'] = df['y'].astype(float)\n",
    "train = df[df['ds']<'2023-07-01']\n",
    "test = df[df['ds']>='2023-07-01']\n",
    "y_train =train[['y']]\n",
    "y_test =test[['y']] "
   ]
  },
  {
   "cell_type": "code",
   "execution_count": 3,
   "id": "9e97cb91",
   "metadata": {},
   "outputs": [],
   "source": [
    "model = auto_arima(y_train,d=1, D=0,start_p=0,start_q=0,max_p=12,max_q = 12,start_P=0,start_Q=0,max_P=12,max_Q=12,seasonal=True,m=7,information_criterion='aic') "
   ]
  },
  {
   "cell_type": "code",
   "execution_count": 4,
   "id": "cb8ca8f3",
   "metadata": {},
   "outputs": [
    {
     "name": "stdout",
     "output_type": "stream",
     "text": [
      "                                     SARIMAX Results                                     \n",
      "=========================================================================================\n",
      "Dep. Variable:                                 y   No. Observations:                  880\n",
      "Model:             SARIMAX(3, 1, 0)x(2, 0, 0, 7)   Log Likelihood               -5344.463\n",
      "Date:                           Tue, 19 Dec 2023   AIC                          10700.927\n",
      "Time:                                   15:28:03   BIC                          10729.599\n",
      "Sample:                                        0   HQIC                         10711.892\n",
      "                                           - 880                                         \n",
      "Covariance Type:                             opg                                         \n",
      "==============================================================================\n",
      "                 coef    std err          z      P>|z|      [0.025      0.975]\n",
      "------------------------------------------------------------------------------\n",
      "ar.L1         -0.2906      0.022    -13.004      0.000      -0.334      -0.247\n",
      "ar.L2         -0.1956      0.032     -6.206      0.000      -0.257      -0.134\n",
      "ar.L3         -0.1598      0.028     -5.807      0.000      -0.214      -0.106\n",
      "ar.S.L7        0.5034      0.023     21.751      0.000       0.458       0.549\n",
      "ar.S.L14       0.3340      0.022     15.130      0.000       0.291       0.377\n",
      "sigma2      1.109e+04    360.419     30.768      0.000    1.04e+04    1.18e+04\n",
      "===================================================================================\n",
      "Ljung-Box (L1) (Q):                   0.01   Jarque-Bera (JB):               594.17\n",
      "Prob(Q):                              0.91   Prob(JB):                         0.00\n",
      "Heteroskedasticity (H):               1.45   Skew:                             0.61\n",
      "Prob(H) (two-sided):                  0.00   Kurtosis:                         6.84\n",
      "===================================================================================\n",
      "\n",
      "Warnings:\n",
      "[1] Covariance matrix calculated using the outer product of gradients (complex-step).\n"
     ]
    }
   ],
   "source": [
    "print(model.summary())"
   ]
  },
  {
   "cell_type": "code",
   "execution_count": 5,
   "id": "9e4f0c77",
   "metadata": {},
   "outputs": [],
   "source": [
    "forecast = model.predict(n_periods=31)"
   ]
  },
  {
   "cell_type": "code",
   "execution_count": 6,
   "id": "4a41af9d",
   "metadata": {},
   "outputs": [
    {
     "name": "stdout",
     "output_type": "stream",
     "text": [
      "Forecasted values: 880    371.425152\n",
      "881    549.631047\n",
      "882    737.475367\n",
      "883    747.888506\n",
      "884    677.827730\n",
      "885    555.085467\n",
      "886    522.574751\n",
      "887    418.074855\n",
      "888    641.743863\n",
      "889    757.314571\n",
      "890    765.206141\n",
      "891    714.916240\n",
      "892    622.067928\n",
      "893    593.007770\n",
      "894    490.436597\n",
      "895    662.561917\n",
      "896    783.486432\n",
      "897    790.937694\n",
      "898    742.218926\n",
      "899    654.478802\n",
      "900    628.990065\n",
      "901    542.448267\n",
      "902    703.809460\n",
      "903    803.288798\n",
      "904    809.675877\n",
      "905    768.351859\n",
      "906    693.168235\n",
      "907    670.629966\n",
      "908    592.802145\n",
      "909    731.528426\n",
      "910    821.999618\n",
      "dtype: float64\n"
     ]
    }
   ],
   "source": [
    "print(\"Forecasted values:\", forecast)"
   ]
  },
  {
   "cell_type": "code",
   "execution_count": 7,
   "id": "6d6c2f4a",
   "metadata": {},
   "outputs": [
    {
     "name": "stdout",
     "output_type": "stream",
     "text": [
      "         y\n",
      "880  293.0\n",
      "881  230.0\n",
      "882  739.0\n",
      "883  679.0\n",
      "884  641.0\n",
      "885  592.0\n",
      "886  553.0\n",
      "887  275.0\n",
      "888  235.0\n",
      "889  690.0\n",
      "890  711.0\n",
      "891  633.0\n",
      "892  549.0\n",
      "893  527.0\n",
      "894  329.0\n",
      "895  217.0\n",
      "896  689.0\n",
      "897  684.0\n",
      "898  613.0\n",
      "899  539.0\n",
      "900  508.0\n",
      "901  302.0\n",
      "902  230.0\n",
      "903  687.0\n",
      "904  678.0\n",
      "905  625.0\n",
      "906  572.0\n",
      "907  535.0\n",
      "908  326.0\n",
      "909  248.0\n",
      "910  671.0\n"
     ]
    }
   ],
   "source": [
    "print(y_test)"
   ]
  },
  {
   "cell_type": "code",
   "execution_count": 10,
   "id": "1d5e14bc",
   "metadata": {},
   "outputs": [],
   "source": [
    "mae = mean_absolute_error(y_test, forecast)\n",
    "rmse = np.sqrt(mean_squared_error(y_test, forecast))\n",
    "r_squared = r2_score(y_test, forecast)"
   ]
  },
  {
   "cell_type": "code",
   "execution_count": 11,
   "id": "3697f925",
   "metadata": {},
   "outputs": [
    {
     "name": "stdout",
     "output_type": "stream",
     "text": [
      "158.15423551266232 205.62252453587757 -0.3477284438112256\n"
     ]
    }
   ],
   "source": [
    "print(mae,rmse,r_squared)"
   ]
  },
  {
   "cell_type": "code",
   "execution_count": 12,
   "id": "d3b597a7",
   "metadata": {},
   "outputs": [
    {
     "name": "stdout",
     "output_type": "stream",
     "text": [
      "Best p: 3\n",
      "Best d: 1\n",
      "Best q: 0\n",
      "Best P: 2\n",
      "Best D: 0\n",
      "Best Q: 0\n"
     ]
    }
   ],
   "source": [
    "params = model.get_params()\n",
    "# 打印模型参数\n",
    "print(\"Best p:\", params['order'][0])  # 输出最佳的 p 值\n",
    "print(\"Best d:\", params['order'][1])  # 输出最佳的 d 值\n",
    "print(\"Best q:\", params['order'][2])  # 输出最佳的 q 值\n",
    "print(\"Best P:\", params['seasonal_order'][0])  # 输出最佳的 P 值\n",
    "print(\"Best D:\", params['seasonal_order'][1])  # 输出最佳的 D 值\n",
    "print(\"Best Q:\", params['seasonal_order'][2])  # 输出最佳的 Q 值"
   ]
  },
  {
   "cell_type": "code",
   "execution_count": null,
   "id": "5797bd55",
   "metadata": {},
   "outputs": [],
   "source": []
  }
 ],
 "metadata": {
  "kernelspec": {
   "display_name": "Python 3 (ipykernel)",
   "language": "python",
   "name": "python3"
  },
  "language_info": {
   "codemirror_mode": {
    "name": "ipython",
    "version": 3
   },
   "file_extension": ".py",
   "mimetype": "text/x-python",
   "name": "python",
   "nbconvert_exporter": "python",
   "pygments_lexer": "ipython3",
   "version": "3.9.12"
  }
 },
 "nbformat": 4,
 "nbformat_minor": 5
}
