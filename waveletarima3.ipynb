{
 "cells": [
  {
   "cell_type": "code",
   "execution_count": 1,
   "id": "554f68dc",
   "metadata": {},
   "outputs": [
    {
     "name": "stderr",
     "output_type": "stream",
     "text": [
      "D:\\Anaconda3\\lib\\site-packages\\scipy\\__init__.py:146: UserWarning: A NumPy version >=1.16.5 and <1.23.0 is required for this version of SciPy (detected version 1.26.2\n",
      "  warnings.warn(f\"A NumPy version >={np_minversion} and <{np_maxversion}\"\n"
     ]
    }
   ],
   "source": [
    "from pmdarima.arima import auto_arima\n",
    "import matplotlib.pyplot as plt\n",
    "import pmdarima as pm\n",
    "from pmdarima import model_selection\n",
    "from sklearn.metrics import mean_squared_error\n",
    "from pmdarima.arima import ADFTest\n",
    "from pmdarima.arima import AutoARIMA\n",
    "from pmdarima import auto_arima\n",
    "from sklearn.metrics import mean_absolute_error, mean_squared_error, r2_score\n",
    "import pywt\n",
    "import torch\n",
    "device = torch.device(\"cuda\" if torch.cuda.is_available() else \"cpu\")\n",
    "import numpy as np\n",
    "import pandas as pd\n",
    "import matplotlib.pyplot as plt\n",
    "from torch.autograd import Variable\n",
    "from sklearn.metrics import mean_squared_error\n",
    "import torch.nn as nn\n",
    "import warnings\n",
    "warnings.filterwarnings(\"ignore\")\n",
    "from torch.utils.data import DataLoader\n",
    "from torch.utils.data import Dataset\n",
    "from sklearn.preprocessing import MinMaxScaler\n",
    "from itertools import chain"
   ]
  },
  {
   "cell_type": "code",
   "execution_count": 2,
   "id": "5db8dcb0",
   "metadata": {},
   "outputs": [
    {
     "name": "stdout",
     "output_type": "stream",
     "text": [
      "<class 'pandas.core.frame.DataFrame'>\n",
      "ds    datetime64[ns]\n",
      "y              int64\n",
      "dtype: object\n"
     ]
    }
   ],
   "source": [
    "data = pd.read_csv('datacount7.csv',parse_dates = ['ds'])\n",
    "print(type(data))\n",
    "print(data.dtypes)\n",
    "data = data[(data['ds'] < '2022-12-10') | (data['ds'] > '2023-01-20')]"
   ]
  },
  {
   "cell_type": "code",
   "execution_count": 3,
   "id": "c398e30b",
   "metadata": {},
   "outputs": [],
   "source": [
    "data = data['y'].tolist()\n",
    "actual = data[-31:]"
   ]
  },
  {
   "cell_type": "code",
   "execution_count": 4,
   "id": "0d6dce93",
   "metadata": {},
   "outputs": [
    {
     "name": "stdout",
     "output_type": "stream",
     "text": [
      "haar family: haar\n",
      "db family: db1, db2, db3, db4, db5, db6, db7, db8, db9, db10, db11, db12, db13, db14, db15, db16, db17, db18, db19, db20, db21, db22, db23, db24, db25, db26, db27, db28, db29, db30, db31, db32, db33, db34, db35, db36, db37, db38\n",
      "sym family: sym2, sym3, sym4, sym5, sym6, sym7, sym8, sym9, sym10, sym11, sym12, sym13, sym14, sym15, sym16, sym17, sym18, sym19, sym20\n",
      "coif family: coif1, coif2, coif3, coif4, coif5, coif6, coif7, coif8, coif9, coif10, coif11, coif12, coif13, coif14, coif15, coif16, coif17\n",
      "bior family: bior1.1, bior1.3, bior1.5, bior2.2, bior2.4, bior2.6, bior2.8, bior3.1, bior3.3, bior3.5, bior3.7, bior3.9, bior4.4, bior5.5, bior6.8\n",
      "rbio family: rbio1.1, rbio1.3, rbio1.5, rbio2.2, rbio2.4, rbio2.6, rbio2.8, rbio3.1, rbio3.3, rbio3.5, rbio3.7, rbio3.9, rbio4.4, rbio5.5, rbio6.8\n",
      "dmey family: dmey\n",
      "gaus family: gaus1, gaus2, gaus3, gaus4, gaus5, gaus6, gaus7, gaus8\n",
      "mexh family: mexh\n",
      "morl family: morl\n",
      "cgau family: cgau1, cgau2, cgau3, cgau4, cgau5, cgau6, cgau7, cgau8\n",
      "shan family: shan\n",
      "fbsp family: fbsp\n",
      "cmor family: cmor\n"
     ]
    }
   ],
   "source": [
    "for family in pywt.families():\n",
    "    print(\"%s family: \" % family + ', '.join(pywt.wavelist(family)))"
   ]
  },
  {
   "cell_type": "code",
   "execution_count": 5,
   "id": "6780ccfb",
   "metadata": {},
   "outputs": [],
   "source": [
    "# 通过循环设置不同的阈值值，并记录结果\n",
    "threshold_values = range(1, 401,20)  # 阈值范围从1到400\n",
    "\n",
    "results = []  # 用于存储每个阈值值对应的结果"
   ]
  },
  {
   "cell_type": "code",
   "execution_count": null,
   "id": "27a4b2f0",
   "metadata": {},
   "outputs": [
    {
     "name": "stdout",
     "output_type": "stream",
     "text": [
      "1 1 1 165.05745346285246 203.92404309349413 -0.32555541011128586\n",
      "1 1 21 182.76553505160658 208.55723015410436 -0.3864733336528494\n",
      "1 1 41 201.34271206996735 219.8092867972141 -0.5401148013667061\n"
     ]
    }
   ],
   "source": [
    "for db_num in range(1, 39):\n",
    "    for levels in range(1, 7):\n",
    "        wavelet = f'db{db_num}'\n",
    "        coeffs = pywt.wavedec(data, wavelet, level=levels)\n",
    "        for threshold in threshold_values:\n",
    "            coeffs = [pywt.threshold(c, threshold, 'soft') for c in coeffs]\n",
    "\n",
    "            meta = pywt.waverec(coeffs, wavelet)\n",
    "            train = meta[:-31]\n",
    "\n",
    "            model = auto_arima(train, d=1, D=0, start_p=0, start_q=0, max_p=12, max_q=12,\n",
    "                               start_P=0, start_Q=0, max_P=12, max_Q=12, seasonal=True, m=7,\n",
    "                               information_criterion='aic')\n",
    "\n",
    "            forecast = model.predict(n_periods=31)\n",
    "            # 假设有实际的值 actual\n",
    "\n",
    "            mae = mean_absolute_error(actual, forecast)\n",
    "            rmse = np.sqrt(mean_squared_error(actual, forecast))\n",
    "            r_squared = r2_score(actual, forecast)\n",
    "            print(db_num,levels,threshold, mae, rmse, r_squared)\n",
    "            results.append((db_num,levels,threshold, mae, rmse, r_squared))"
   ]
  },
  {
   "cell_type": "code",
   "execution_count": null,
   "id": "e55ca8cd",
   "metadata": {},
   "outputs": [],
   "source": [
    "results_df = pd.DataFrame(results, columns=['Threshold', 'MAE', 'RMSE', 'R_squared'])\n",
    "print(results_df)"
   ]
  }
 ],
 "metadata": {
  "kernelspec": {
   "display_name": "Python 3 (ipykernel)",
   "language": "python",
   "name": "python3"
  },
  "language_info": {
   "codemirror_mode": {
    "name": "ipython",
    "version": 3
   },
   "file_extension": ".py",
   "mimetype": "text/x-python",
   "name": "python",
   "nbconvert_exporter": "python",
   "pygments_lexer": "ipython3",
   "version": "3.9.12"
  }
 },
 "nbformat": 4,
 "nbformat_minor": 5
}
