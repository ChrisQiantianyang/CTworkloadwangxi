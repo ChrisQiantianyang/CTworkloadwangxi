{
 "cells": [
  {
   "cell_type": "code",
   "execution_count": 1,
   "id": "b51e3175",
   "metadata": {},
   "outputs": [],
   "source": [
    "import pandas as pd\n",
    "import numpy as np\n",
    "import itertools\n",
    "from matplotlib import pyplot\n",
    "# forecast monthly births with random forest\n",
    "from numpy import asarray\n",
    "from pandas import read_csv\n",
    "from pandas import DataFrame\n",
    "from pandas import concat\n",
    "from sklearn.metrics import mean_absolute_error\n",
    "from sklearn.ensemble import RandomForestRegressor\n",
    "from sklearn.model_selection import GridSearchCV\n",
    "from sklearn.metrics import make_scorer, mean_squared_error\n",
    "from sklearn.datasets import make_regression"
   ]
  },
  {
   "cell_type": "code",
   "execution_count": 2,
   "id": "a8960d05",
   "metadata": {},
   "outputs": [],
   "source": [
    "series = read_csv('datacount7.csv', header=0, index_col=0, parse_dates=True, squeeze=True)\n",
    "train_end_date = '2023-07-01'\n",
    "train_end_date = pd.to_datetime(train_end_date)\n",
    "train = series.loc[series.index < train_end_date]\n",
    "test = series.loc[series.index >= train_end_date]\n",
    "trainvalues = train.values\n",
    "trainvalues = trainvalues.reshape(-1, 1)\n",
    "testvalues = test.values\n",
    "testvalues = testvalues.reshape(-1, 1)"
   ]
  },
  {
   "cell_type": "code",
   "execution_count": 3,
   "id": "72b71a64",
   "metadata": {},
   "outputs": [],
   "source": [
    "def series_to_supervised(data,n_in = 1,n_out = 1,dropnan=True):\n",
    "    n_vars = 1 if type(data) is list else data.shape[1]\n",
    "    df = DataFrame(data)\n",
    "    cols = list()\n",
    "    # input sequence (t-n, ... t-1)\n",
    "    for i in range(n_in, 0, -1):\n",
    "         cols.append(df.shift(i))\n",
    "    # forecast sequence (t, t+1, ... t+n)\n",
    "    for i in range(0, n_out):\n",
    "        cols.append(df.shift(-i))\n",
    "    # put it all together\n",
    "    agg = concat(cols, axis=1)\n",
    "    # drop rows with NaN values\n",
    "    if dropnan:\n",
    "        agg.dropna(inplace=True)\n",
    "        return agg.values"
   ]
  },
  {
   "cell_type": "code",
   "execution_count": 4,
   "id": "a6955f21",
   "metadata": {},
   "outputs": [],
   "source": [
    "def search(train):\n",
    "    # transform list into array\n",
    "    train = asarray(train)\n",
    "    # split into input and output columns\n",
    "    trainX, trainy = train[:, :-1], train[:, -1]\n",
    "    # fit model\n",
    "    rf = RandomForestRegressor()  # 实例化随机森林模型\n",
    "    param_grid = {\n",
    "        'n_estimators': list(range(10, 141, 10)),  # 决策树数量\n",
    "        'max_depth': list(range(2, 12, 1)),\n",
    "        'min_samples_leaf' : list(range(3, 20, 1))\n",
    "    }\n",
    "    grid_search = GridSearchCV(estimator=rf, param_grid=param_grid, \n",
    "                               scoring='neg_mean_squared_error', cv=9)\n",
    "    grid_search.fit(trainX, trainy)  # 使用训练集进行网格搜索\n",
    "    print(\"Best parameters found: \", grid_search.best_params_)\n",
    "    print(\"Lowest RMSE found: \", (-grid_search.best_score_) ** 0.5)"
   ]
  },
  {
   "cell_type": "code",
   "execution_count": 5,
   "id": "fa7d2c2c",
   "metadata": {},
   "outputs": [],
   "source": [
    "def search_with_dynamic_n_in(trainvalues, testvalues):\n",
    "    for n_in in range(7, 31):\n",
    "        traindata = series_to_supervised(trainvalues, n_in=n_in)\n",
    "        testdata = series_to_supervised(testvalues, n_in=n_in)\n",
    "\n",
    "        # Call the search function for each n_in\n",
    "        search(traindata)\n",
    "        print(n_in)"
   ]
  },
  {
   "cell_type": "code",
   "execution_count": null,
   "id": "49b0ec3c",
   "metadata": {},
   "outputs": [
    {
     "name": "stdout",
     "output_type": "stream",
     "text": [
      "Best parameters found:  {'max_depth': 11, 'min_samples_leaf': 3, 'n_estimators': 60}\n",
      "Lowest RMSE found:  107.91012160881161\n",
      "7\n"
     ]
    }
   ],
   "source": [
    "search_with_dynamic_n_in(trainvalues,testvalues)"
   ]
  },
  {
   "cell_type": "code",
   "execution_count": null,
   "id": "fb3d4b09",
   "metadata": {},
   "outputs": [],
   "source": []
  }
 ],
 "metadata": {
  "kernelspec": {
   "display_name": "Python 3 (ipykernel)",
   "language": "python",
   "name": "python3"
  },
  "language_info": {
   "codemirror_mode": {
    "name": "ipython",
    "version": 3
   },
   "file_extension": ".py",
   "mimetype": "text/x-python",
   "name": "python",
   "nbconvert_exporter": "python",
   "pygments_lexer": "ipython3",
   "version": "3.9.12"
  }
 },
 "nbformat": 4,
 "nbformat_minor": 5
}
