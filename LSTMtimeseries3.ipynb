{
 "cells": [
  {
   "cell_type": "code",
   "execution_count": 1,
   "id": "60b81b53",
   "metadata": {},
   "outputs": [
    {
     "name": "stdout",
     "output_type": "stream",
     "text": [
      "(911, 1)\n"
     ]
    },
    {
     "data": {
      "image/png": "[encoded data removed]",
      "text/plain": [
       "<Figure size 432x288 with 1 Axes>"
      ]
     },
     "metadata": {
      "needs_background": "light"
     },
     "output_type": "display_data"
    }
   ],
   "source": [
    "import torch\n",
    "device = torch.device(\"cuda\" if torch.cuda.is_available() else \"cpu\")\n",
    "import numpy as np\n",
    "import pandas as pd\n",
    "import matplotlib.pyplot as plt\n",
    "from torch.autograd import Variable\n",
    "from sklearn.metrics import mean_squared_error\n",
    "import torch.nn as nn\n",
    "import warnings\n",
    "warnings.filterwarnings(\"ignore\")\n",
    "from sklearn.metrics import r2_score, mean_absolute_error, mean_squared_error\n",
    "from torch.utils.data import DataLoader\n",
    "from torch.utils.data import Dataset\n",
    "from sklearn.preprocessing import MinMaxScaler\n",
    "class Mydataseries(Dataset):\n",
    "    def __init__(self,input_data,tw):\n",
    "        self.train_seq1 = []\n",
    "        self.train_label1 = []\n",
    "        self.L = len(input_data)\n",
    "        print(self.L)\n",
    "        for i in range(self.L-tw):\n",
    "            train_seq = input_data[i:i+tw]\n",
    "            train_label = input_data[i+tw:i+tw+1]\n",
    "            self.train_seq1.append(train_seq)\n",
    "            self.train_label1.append(train_label)\n",
    "    def __len__(self):\n",
    "        return len(self.train_seq1)\n",
    "    def __getitem__(self,idx):\n",
    "        return self.train_seq1[idx],self.train_label1[idx]\n",
    "\n",
    "jiangda =pd.read_csv(\"datacount7.csv\", usecols=[1])\n",
    "plt.plot(jiangda)\n",
    "print(jiangda.shape)"
   ]
  },
  {
   "cell_type": "code",
   "execution_count": 2,
   "id": "6a4257df",
   "metadata": {},
   "outputs": [],
   "source": [
    "def difference(dataset, interval=1):\n",
    "\tdiff = list()\n",
    "\tfor i in range(interval, len(dataset)):\n",
    "\t\tvalue = dataset[i] - dataset[i - interval]\n",
    "\t\tdiff.append(value)\n",
    "\treturn pd.Series(diff)\n",
    "# invert differenced v|alue\n",
    "def inverse_difference(history, yhat):\n",
    "\treturn history+yhat"
   ]
  },
  {
   "cell_type": "code",
   "execution_count": 3,
   "id": "e97f9f75",
   "metadata": {},
   "outputs": [],
   "source": [
    "jiangda2 = jiangda['y'].values.astype(float)\n",
    "diff = difference(jiangda2, 1)"
   ]
  },
  {
   "cell_type": "code",
   "execution_count": 4,
   "id": "ccca1fcb",
   "metadata": {},
   "outputs": [],
   "source": [
    "scaler = MinMaxScaler(feature_range=(-1, 1))\n",
    "data_scaled = scaler.fit_transform(diff.to_numpy().reshape(-1, 1))"
   ]
  },
  {
   "cell_type": "code",
   "execution_count": 5,
   "id": "f8a7578f",
   "metadata": {},
   "outputs": [],
   "source": [
    "data_scaled = torch.FloatTensor(data_scaled).view(-1)\n",
    "y = jiangda2[-32:-1].reshape(-1, 1)\n",
    "result = jiangda2[-31:]\n",
    "result = result.reshape(-1, 1)"
   ]
  },
  {
   "cell_type": "code",
   "execution_count": 8,
   "id": "99520a8c",
   "metadata": {},
   "outputs": [
    {
     "name": "stdout",
     "output_type": "stream",
     "text": [
      "872\n",
      "38\n"
     ]
    }
   ],
   "source": [
    "train_window = 7\n",
    "test_data_size = 31+train_window\n",
    "train_data = data_scaled[:-test_data_size]\n",
    "test_data = data_scaled[-test_data_size:]\n",
    "mydataseries = Mydataseries(train_data,train_window)\n",
    "mydataseriestest = Mydataseries(test_data,train_window)\n",
    "trainseq1 = DataLoader(dataset=mydataseries, batch_size=1, shuffle=True, num_workers=0, drop_last=False)\n",
    "testseq2 = DataLoader(dataset=mydataseriestest, batch_size=1,num_workers=0,drop_last=False)"
   ]
  },
  {
   "cell_type": "code",
   "execution_count": 9,
   "id": "583a2834",
   "metadata": {},
   "outputs": [],
   "source": [
    "class LSTM(nn.Module):\n",
    "    def __init__(self, input_size=1, hidden_layer_size=100, output_size=1, batch_size=1):\n",
    "        super().__init__()\n",
    "        self.hidden_layer_size = hidden_layer_size\n",
    "\n",
    "        self.lstm = nn.LSTM(input_size, hidden_layer_size, 1)\n",
    "\n",
    "        self.linear = nn.Linear(hidden_layer_size, output_size)\n",
    "        \n",
    "        \n",
    "    def forward(self, input_seq, hidden_cell):\n",
    "        B, C = input_seq.shape\n",
    "        input_seq = input_seq.reshape(B, C , -1)\n",
    "        input_seq = input_seq.permute(1, 0 ,2)\n",
    "        lstm_out, hidden_cell = self.lstm(input_seq, hidden_cell)\n",
    "        predictions = self.linear(lstm_out)\n",
    "        return predictions[-1]\n",
    "    \n",
    "model = LSTM().to(device)\n",
    "loss_function = nn.MSELoss().to(device)\n",
    "optimizer = torch.optim.Adam(model.parameters(), lr=0.001)"
   ]
  },
  {
   "cell_type": "code",
   "execution_count": 11,
   "id": "daf16477",
   "metadata": {},
   "outputs": [
    {
     "name": "stdout",
     "output_type": "stream",
     "text": [
      "epoch:   1 loss: 0.00111874\n",
      "epoch:   1 loss: 0.0011187375\n"
     ]
    }
   ],
   "source": [
    "epochd = 15\n",
    "for i in range(epochs):\n",
    "    for train_seq,train_label in trainseq1:\n",
    "        train_seq, train_label = train_seq.to(device), train_label.to(device)\n",
    "        optimizer.zero_grad()\n",
    "        hidden_cell = (torch.zeros(1, 1, model.hidden_layer_size).to(device),\n",
    "                       torch.zeros(1, 1, model.hidden_layer_size).to(device))\n",
    "\n",
    "        y_pred = model(train_seq, hidden_cell)\n",
    "        single_loss = loss_function(y_pred, train_label)\n",
    "        single_loss.backward()\n",
    "        optimizer.step()\n",
    "\n",
    "    if i%25 == 1:\n",
    "        print(f'epoch: {i:3} loss: {single_loss.item():10.8f}')\n",
    "        print(f'epoch: {i:3} loss: {single_loss.item():10.10f}')"
   ]
  },
  {
   "cell_type": "code",
   "execution_count": null,
   "id": "b13ad185",
   "metadata": {},
   "outputs": [],
   "source": [
    "model.eval()"
   ]
  },
  {
   "cell_type": "code",
   "execution_count": null,
   "id": "162d4987",
   "metadata": {},
   "outputs": [],
   "source": [
    "pred = []\n",
    "from itertools import chain\n",
    "for (train_seq,train_label) in testseq2:\n",
    "    train_seq, train_label = train_seq.to(device), train_label.to(device)\n",
    "    train_label = list(chain.from_iterable(train_label.data.tolist()))\n",
    "    with torch.no_grad():\n",
    "        hidden_cell = (torch.zeros(1, 1, model.hidden_layer_size).to(device),\n",
    "                       torch.zeros(1, 1, model.hidden_layer_size).to(device))\n",
    "        y_pred = model(train_seq,hidden_cell)\n",
    "        y_pred = list(chain.from_iterable(y_pred.data.tolist()))\n",
    "        y_pred = np.array(y_pred)\n",
    "        y_pred = scaler.inverse_transform(y_pred.reshape(-1, 1))\n",
    "        pred.extend(y_pred)\n",
    "        \n",
    "pred = np.array(pred)\n",
    "result = np.array(result)"
   ]
  },
  {
   "cell_type": "code",
   "execution_count": null,
   "id": "39893175",
   "metadata": {},
   "outputs": [],
   "source": [
    "yhat = inverse_difference(pred,y)\n",
    "yhat"
   ]
  },
  {
   "cell_type": "code",
   "execution_count": null,
   "id": "fd174d51",
   "metadata": {},
   "outputs": [],
   "source": [
    "r_squared = r2_score(yhat,result)\n",
    "print(f\"R方值：{r_squared}\")\n",
    "\n",
    "mae = mean_absolute_error(yhat,result)\n",
    "print(f\"平均绝对误差（MAE）：{mae}\")\n",
    "\n",
    "rmse = np.sqrt(mean_squared_error(yhat,result))\n",
    "print(f\"均方根误差（RMSE）：{rmse}\")\n",
    "forecast_predictions = np.squeeze(yhat)\n",
    "act = np.sum(result)           \n",
    ".\n",
    "m  = np.abs(result - yhat)\n",
    "gapsum = np.sum(m)\n",
    "gap = gapsum/31\n",
    "gapratio = gapsum/act\n",
    "print(gapsum,gap,gapratio)"
   ]
  }
 ],
 "metadata": {
  "kernelspec": {
   "display_name": "Python 3 (ipykernel)",
   "language": "python",
   "name": "python3"
  },
  "language_info": {
   "codemirror_mode": {
    "name": "ipython",
    "version": 3
   },
   "file_extension": ".py",
   "mimetype": "text/x-python",
   "name": "python",
   "nbconvert_exporter": "python",
   "pygments_lexer": "ipython3",
   "version": "3.9.12"
  }
 },
 "nbformat": 4,
 "nbformat_minor": 5
}
