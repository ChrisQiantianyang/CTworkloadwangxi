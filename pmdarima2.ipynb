{
 "cells": [
  {
   "cell_type": "code",
   "execution_count": 1,
   "id": "137badba",
   "metadata": {},
   "outputs": [
    {
     "name": "stderr",
     "output_type": "stream",
     "text": [
      "E:\\Python\\Anaconda3\\lib\\site-packages\\scipy\\__init__.py:146: UserWarning: A NumPy version >=1.16.5 and <1.23.0 is required for this version of SciPy (detected version 1.26.2\n",
      "  warnings.warn(f\"A NumPy version >={np_minversion} and <{np_maxversion}\"\n"
     ]
    }
   ],
   "source": [
    "from pmdarima.arima import auto_arima\n",
    "import numpy as np\n",
    "import pandas as pd\n",
    "import matplotlib.pyplot as plt\n",
    "import pmdarima as pm\n",
    "from pmdarima import model_selection\n",
    "from sklearn.metrics import mean_squared_error\n",
    "from pmdarima.arima import ADFTest\n",
    "from pmdarima.arima import AutoARIMA\n",
    "from pmdarima import auto_arima\n",
    "from sklearn.metrics import mean_absolute_error, mean_squared_error, r2_score\n",
    "import pywt\n",
    "import statsmodels.api as sm\n",
    "from scipy.signal import savgol_filter"
   ]
  },
  {
   "cell_type": "code",
   "execution_count": 2,
   "id": "08976fe6",
   "metadata": {},
   "outputs": [],
   "source": [
    "df = pd.read_csv('datacount7.csv')\n",
    "df['y'] = df['y'].astype(float)\n",
    "train = df[(df['ds'] < '2022-12-10') | ((df['ds'] > '2023-01-20') & (df['ds'] < '2023-07-01'))]\n",
    "test = df[df['ds']>='2023-07-01']\n",
    "y_train =train[['y']]\n",
    "y_test =test[['y']] "
   ]
  },
  {
   "cell_type": "code",
   "execution_count": 3,
   "id": "36c98f52",
   "metadata": {},
   "outputs": [
    {
     "name": "stderr",
     "output_type": "stream",
     "text": [
      "E:\\Python\\Anaconda3\\lib\\site-packages\\pmdarima\\arima\\_auto_solvers.py:524: ModelFitWarning: Error fitting  ARIMA(4,1,0)(2,0,1)[7] intercept (if you do not want to see these warnings, run with error_action=\"ignore\").\n",
      "Traceback:\n",
      "Traceback (most recent call last):\n",
      "  File \"E:\\Python\\Anaconda3\\lib\\site-packages\\pmdarima\\arima\\_auto_solvers.py\", line 508, in _fit_candidate_model\n",
      "    fit.fit(y, X=X, **fit_params)\n",
      "  File \"E:\\Python\\Anaconda3\\lib\\site-packages\\pmdarima\\arima\\arima.py\", line 603, in fit\n",
      "    self._fit(y, X, **fit_args)\n",
      "  File \"E:\\Python\\Anaconda3\\lib\\site-packages\\pmdarima\\arima\\arima.py\", line 524, in _fit\n",
      "    fit, self.arima_res_ = _fit_wrapper()\n",
      "  File \"E:\\Python\\Anaconda3\\lib\\site-packages\\pmdarima\\arima\\arima.py\", line 510, in _fit_wrapper\n",
      "    fitted = arima.fit(\n",
      "  File \"E:\\Python\\Anaconda3\\lib\\site-packages\\statsmodels\\tsa\\statespace\\mlemodel.py\", line 704, in fit\n",
      "    mlefit = super(MLEModel, self).fit(start_params, method=method,\n",
      "  File \"E:\\Python\\Anaconda3\\lib\\site-packages\\statsmodels\\base\\model.py\", line 563, in fit\n",
      "    xopt, retvals, optim_settings = optimizer._fit(f, score, start_params,\n",
      "  File \"E:\\Python\\Anaconda3\\lib\\site-packages\\statsmodels\\base\\optimizer.py\", line 241, in _fit\n",
      "    xopt, retvals = func(objective, gradient, start_params, fargs, kwargs,\n",
      "  File \"E:\\Python\\Anaconda3\\lib\\site-packages\\statsmodels\\base\\optimizer.py\", line 651, in _fit_lbfgs\n",
      "    retvals = optimize.fmin_l_bfgs_b(func, start_params, maxiter=maxiter,\n",
      "  File \"E:\\Python\\Anaconda3\\lib\\site-packages\\scipy\\optimize\\lbfgsb.py\", line 197, in fmin_l_bfgs_b\n",
      "    res = _minimize_lbfgsb(fun, x0, args=args, jac=jac, bounds=bounds,\n",
      "  File \"E:\\Python\\Anaconda3\\lib\\site-packages\\scipy\\optimize\\lbfgsb.py\", line 360, in _minimize_lbfgsb\n",
      "    f, g = func_and_grad(x)\n",
      "  File \"E:\\Python\\Anaconda3\\lib\\site-packages\\scipy\\optimize\\_differentiable_functions.py\", line 267, in fun_and_grad\n",
      "    self._update_fun()\n",
      "  File \"E:\\Python\\Anaconda3\\lib\\site-packages\\scipy\\optimize\\_differentiable_functions.py\", line 233, in _update_fun\n",
      "    self._update_fun_impl()\n",
      "  File \"E:\\Python\\Anaconda3\\lib\\site-packages\\scipy\\optimize\\_differentiable_functions.py\", line 137, in update_fun\n",
      "    self.f = fun_wrapped(self.x)\n",
      "  File \"E:\\Python\\Anaconda3\\lib\\site-packages\\scipy\\optimize\\_differentiable_functions.py\", line 134, in fun_wrapped\n",
      "    return fun(np.copy(x), *args)\n",
      "  File \"E:\\Python\\Anaconda3\\lib\\site-packages\\statsmodels\\base\\model.py\", line 531, in f\n",
      "    return -self.loglike(params, *args) / nobs\n",
      "  File \"E:\\Python\\Anaconda3\\lib\\site-packages\\statsmodels\\tsa\\statespace\\mlemodel.py\", line 939, in loglike\n",
      "    loglike = self.ssm.loglike(complex_step=complex_step, **kwargs)\n",
      "  File \"E:\\Python\\Anaconda3\\lib\\site-packages\\statsmodels\\tsa\\statespace\\kalman_filter.py\", line 983, in loglike\n",
      "    kfilter = self._filter(**kwargs)\n",
      "  File \"E:\\Python\\Anaconda3\\lib\\site-packages\\statsmodels\\tsa\\statespace\\kalman_filter.py\", line 903, in _filter\n",
      "    self._initialize_state(prefix=prefix, complex_step=complex_step)\n",
      "  File \"E:\\Python\\Anaconda3\\lib\\site-packages\\statsmodels\\tsa\\statespace\\representation.py\", line 983, in _initialize_state\n",
      "    self._statespaces[prefix].initialize(self.initialization,\n",
      "  File \"statsmodels\\tsa\\statespace\\_representation.pyx\", line 1373, in statsmodels.tsa.statespace._representation.dStatespace.initialize\n",
      "  File \"statsmodels\\tsa\\statespace\\_representation.pyx\", line 1362, in statsmodels.tsa.statespace._representation.dStatespace.initialize\n",
      "  File \"statsmodels\\tsa\\statespace\\_initialization.pyx\", line 288, in statsmodels.tsa.statespace._initialization.dInitialization.initialize\n",
      "  File \"statsmodels\\tsa\\statespace\\_initialization.pyx\", line 406, in statsmodels.tsa.statespace._initialization.dInitialization.initialize_stationary_stationary_cov\n",
      "  File \"statsmodels\\tsa\\statespace\\_tools.pyx\", line 1206, in statsmodels.tsa.statespace._tools._dsolve_discrete_lyapunov\n",
      "numpy.linalg.LinAlgError: LU decomposition error.\n",
      "\n",
      "  warnings.warn(warning_str, ModelFitWarning)\n"
     ]
    }
   ],
   "source": [
    "model = auto_arima(y_train,start_p=0,start_q=0,max_p=12,max_q = 12,start_P=0,start_Q=0,max_P=12,max_Q=12,seasonal=True,m=7,information_criterion='aic',bool=True) "
   ]
  },
  {
   "cell_type": "code",
   "execution_count": 4,
   "id": "d5525a7c",
   "metadata": {},
   "outputs": [
    {
     "name": "stderr",
     "output_type": "stream",
     "text": [
      "E:\\Python\\Anaconda3\\lib\\site-packages\\statsmodels\\tsa\\base\\tsa_model.py:834: ValueWarning: No supported index is available. Prediction results will be given with an integer index beginning at `start`.\n",
      "  return get_prediction_index(\n"
     ]
    }
   ],
   "source": [
    "forecast = model.predict(n_periods=31)"
   ]
  },
  {
   "cell_type": "code",
   "execution_count": 5,
   "id": "f0273c76",
   "metadata": {},
   "outputs": [
    {
     "name": "stdout",
     "output_type": "stream",
     "text": [
      "Forecasted values: 838    417.199169\n",
      "839    451.623772\n",
      "840    737.616036\n",
      "841    716.905748\n",
      "842    659.620730\n",
      "843    562.157702\n",
      "844    531.969178\n",
      "845    393.890017\n",
      "846    483.754467\n",
      "847    723.113677\n",
      "848    725.610579\n",
      "849    651.244540\n",
      "850    529.863816\n",
      "851    499.938924\n",
      "852    407.075199\n",
      "853    566.515921\n",
      "854    727.706385\n",
      "855    725.197760\n",
      "856    675.326183\n",
      "857    586.945361\n",
      "858    559.024766\n",
      "859    464.555790\n",
      "860    543.351163\n",
      "861    740.285355\n",
      "862    733.689757\n",
      "863    682.451220\n",
      "864    595.711070\n",
      "865    570.650921\n",
      "866    476.758711\n",
      "867    568.300995\n",
      "868    740.429412\n",
      "dtype: float64\n"
     ]
    }
   ],
   "source": [
    "print(\"Forecasted values:\", forecast)"
   ]
  },
  {
   "cell_type": "code",
   "execution_count": 6,
   "id": "61afff49",
   "metadata": {},
   "outputs": [
    {
     "name": "stdout",
     "output_type": "stream",
     "text": [
      "         y\n",
      "880  293.0\n",
      "881  230.0\n",
      "882  739.0\n",
      "883  679.0\n",
      "884  641.0\n",
      "885  592.0\n",
      "886  553.0\n",
      "887  275.0\n",
      "888  235.0\n",
      "889  690.0\n",
      "890  711.0\n",
      "891  633.0\n",
      "892  549.0\n",
      "893  527.0\n",
      "894  329.0\n",
      "895  217.0\n",
      "896  689.0\n",
      "897  684.0\n",
      "898  613.0\n",
      "899  539.0\n",
      "900  508.0\n",
      "901  302.0\n",
      "902  230.0\n",
      "903  687.0\n",
      "904  678.0\n",
      "905  625.0\n",
      "906  572.0\n",
      "907  535.0\n",
      "908  326.0\n",
      "909  248.0\n",
      "910  671.0\n"
     ]
    }
   ],
   "source": [
    "print(y_test)"
   ]
  },
  {
   "cell_type": "code",
   "execution_count": 7,
   "id": "713a0863",
   "metadata": {},
   "outputs": [],
   "source": [
    "mae = mean_absolute_error(y_test, forecast)\n",
    "rmse = np.sqrt(mean_squared_error(y_test, forecast))\n",
    "r_squared = r2_score(y_test, forecast)"
   ]
  },
  {
   "cell_type": "code",
   "execution_count": 8,
   "id": "ab8487c3",
   "metadata": {},
   "outputs": [
    {
     "name": "stdout",
     "output_type": "stream",
     "text": [
      "91.78687133561525 133.4993605325437 0.4319070610836828\n"
     ]
    }
   ],
   "source": [
    "print(mae,rmse,r_squared)"
   ]
  }
 ],
 "metadata": {
  "kernelspec": {
   "display_name": "Python 3 (ipykernel)",
   "language": "python",
   "name": "python3"
  },
  "language_info": {
   "codemirror_mode": {
    "name": "ipython",
    "version": 3
   },
   "file_extension": ".py",
   "mimetype": "text/x-python",
   "name": "python",
   "nbconvert_exporter": "python",
   "pygments_lexer": "ipython3",
   "version": "3.9.12"
  }
 },
 "nbformat": 4,
 "nbformat_minor": 5
}
